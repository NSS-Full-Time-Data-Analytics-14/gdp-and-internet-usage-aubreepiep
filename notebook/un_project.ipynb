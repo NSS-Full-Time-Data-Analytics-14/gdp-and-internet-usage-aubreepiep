{
 "cells": [
  {
   "cell_type": "code",
   "execution_count": null,
   "id": "bb902ccc-e755-4b82-938b-772e0430f40f",
   "metadata": {},
   "outputs": [],
   "source": [
    "import pandas as pd\n",
    "import numpy as np\n",
    "import matplotlib.pyplot as plt\n",
    "import seaborn as sns"
   ]
  },
  {
   "cell_type": "code",
   "execution_count": null,
   "id": "cdee17b8-e3fa-4be5-be9e-72630fec7fef",
   "metadata": {},
   "outputs": [],
   "source": [
    "gdp_df = pd.read_csv('../data/gdp_percapita.csv')"
   ]
  },
  {
   "cell_type": "code",
   "execution_count": null,
   "id": "98e11d5c-e976-4377-b3d9-4312cffcc3c7",
   "metadata": {
    "scrolled": true
   },
   "outputs": [],
   "source": [
    "gdp_df.tail"
   ]
  },
  {
   "cell_type": "markdown",
   "id": "7aa85460-790b-4c1f-afcc-a5843713c198",
   "metadata": {},
   "source": [
    "Question 5: How many rows and columns are in the GDP dataframe? \n",
    "\n",
    "7662 rows and 4 colums"
   ]
  },
  {
   "cell_type": "code",
   "execution_count": null,
   "id": "dba53d96-2570-4aec-92db-3cfec05300cd",
   "metadata": {},
   "outputs": [],
   "source": [
    "gdp_df.shape"
   ]
  },
  {
   "cell_type": "markdown",
   "id": "575706da-d493-40b7-8350-869b0596e733",
   "metadata": {},
   "source": [
    "Question 5: What are the data types for each column? \n",
    "\n",
    "Object, Int, Float, Float"
   ]
  },
  {
   "cell_type": "code",
   "execution_count": null,
   "id": "639b72a8-ba4f-49dc-8915-ba20bb4e42cc",
   "metadata": {},
   "outputs": [],
   "source": [
    "gdp_df.dtypes"
   ]
  },
  {
   "cell_type": "markdown",
   "id": "8f4f2258-c4cd-487f-8d3d-dabee31ad378",
   "metadata": {},
   "source": [
    "Question 6: Drop the `Value Footnotes` column and rename the remaining three to 'Country', 'Year', and 'GDP_Per_Capita'."
   ]
  },
  {
   "cell_type": "code",
   "execution_count": null,
   "id": "0c3db280-a818-4120-8ed8-f82a663f6470",
   "metadata": {},
   "outputs": [],
   "source": [
    "gdp_df = gdp_df.drop(columns = ['Value Footnotes'])"
   ]
  },
  {
   "cell_type": "code",
   "execution_count": null,
   "id": "8275de55-a932-4814-9b42-c20de4472df3",
   "metadata": {},
   "outputs": [],
   "source": [
    "gdp_df = gdp_df.rename(columns = {'Country or Area':'Country','Year':'Year','Value':'GDP_Per_Capita'})"
   ]
  },
  {
   "cell_type": "markdown",
   "id": "ef1c78db-b229-444f-9444-9527b9fb4dae",
   "metadata": {},
   "source": [
    "Question 7: How many countries have data for all years? Which countries are missing many years of data? Look at the number of observations per year. What do you notice?\n",
    "\n",
    "202 countries have all data, 40 are missing data. The amount of data collected per year has improved over time"
   ]
  },
  {
   "cell_type": "code",
   "execution_count": null,
   "id": "5fe0de2e-7ebc-4a05-bd6e-6fe837a77760",
   "metadata": {},
   "outputs": [],
   "source": [
    "Q7 = gdp_df.groupby('Country').count()"
   ]
  },
  {
   "cell_type": "code",
   "execution_count": null,
   "id": "73c69c05-8b83-4938-9488-f07b00769608",
   "metadata": {},
   "outputs": [],
   "source": [
    "Q7_allyears = Q7.loc[Q7['Year'] == 33]\n",
    "Q7_allyears.count()"
   ]
  },
  {
   "cell_type": "code",
   "execution_count": null,
   "id": "26e67a72-d7ce-4783-893b-0b7df91f437b",
   "metadata": {},
   "outputs": [],
   "source": [
    "Q7_missingyears = Q7.loc[Q7['Year'] < 33]\n",
    "Q7_missingyears"
   ]
  },
  {
   "cell_type": "code",
   "execution_count": null,
   "id": "09c04189-9d83-42dc-9002-0c534e26155d",
   "metadata": {},
   "outputs": [],
   "source": [
    "Q7_missingyears.count()"
   ]
  },
  {
   "cell_type": "code",
   "execution_count": null,
   "id": "50087cd2-627f-4419-b277-8d9b399ae339",
   "metadata": {
    "scrolled": true
   },
   "outputs": [],
   "source": [
    "Q7countperyear = gdp_df.groupby('Year').count()\n",
    "Q7countperyear"
   ]
  },
  {
   "cell_type": "markdown",
   "id": "93a82e72-77e8-48eb-b4ba-4d887c69f7ad",
   "metadata": {},
   "source": [
    "Question 8:  In this question, you're going to create some plots to show the distribution of GDP per capita for the year 2020. Go to the Python Graph Gallery (https://www.python-graph-gallery.com/) and look at the different types of plots under the Distribution section. Create a histogram, a density plot, a boxplot, and a violin plot. What do you notice when you look at these plots? How do the plots compare and what information can you get out of one type that you can't necessarily get out of the others?"
   ]
  },
  {
   "cell_type": "markdown",
   "id": "8ffcf332-0ea8-4a48-9e4a-7b2d259e1b27",
   "metadata": {},
   "source": [
    "Question 8: Histogram"
   ]
  },
  {
   "cell_type": "code",
   "execution_count": null,
   "id": "0edc08ad-9e69-45ae-8c7a-907e8badad3e",
   "metadata": {},
   "outputs": [],
   "source": [
    "sns.displot(data= gdp_df[\"Year\"])"
   ]
  },
  {
   "cell_type": "markdown",
   "id": "ce9becce-2b06-4ee9-8dd8-01bc46bd495a",
   "metadata": {},
   "source": [
    "Question 8: Density Plot"
   ]
  },
  {
   "cell_type": "code",
   "execution_count": null,
   "id": "dba804cc-2fd2-4802-bf7d-b1be446cabd9",
   "metadata": {},
   "outputs": [],
   "source": [
    "sns.kdeplot(gdp_df['GDP_Per_Capita'])"
   ]
  },
  {
   "cell_type": "markdown",
   "id": "a0e4f6d1-3532-48fe-bde1-0f70a217addf",
   "metadata": {},
   "source": [
    "Question 8: Box Plot"
   ]
  },
  {
   "cell_type": "code",
   "execution_count": null,
   "id": "709e71b6-1383-42a5-b65a-e190aa31fd76",
   "metadata": {},
   "outputs": [],
   "source": [
    "boxplot_df = gdp_df.loc[gdp_df['Year'] == 2010]"
   ]
  },
  {
   "cell_type": "code",
   "execution_count": null,
   "id": "ef4c25ca-855d-4ea4-9695-8b9258486857",
   "metadata": {},
   "outputs": [],
   "source": [
    "sns.boxplot( x=boxplot_df[\"Year\"], y=boxplot_df[\"GDP_Per_Capita\"] )"
   ]
  },
  {
   "cell_type": "markdown",
   "id": "6036a0ce-3d21-410b-90b9-6cddafc51a17",
   "metadata": {},
   "source": [
    "Question 8: Violin Plot"
   ]
  },
  {
   "cell_type": "code",
   "execution_count": null,
   "id": "6ac5fff7-4060-4851-99fb-3f9aa55cfbf1",
   "metadata": {},
   "outputs": [],
   "source": [
    "sns.violinplot(x=boxplot_df[\"Year\"], y=boxplot_df[\"GDP_Per_Capita\"])"
   ]
  },
  {
   "cell_type": "markdown",
   "id": "646dc7a9-823f-4558-9c60-c8eda5df520a",
   "metadata": {},
   "source": [
    "Question 9: What was the median GDP per capita value in 2020?\n",
    "\n",
    "GDP per capita in 2020 was $19,586"
   ]
  },
  {
   "cell_type": "code",
   "execution_count": null,
   "id": "17da9233-5b29-4931-b72f-608059a41cdc",
   "metadata": {},
   "outputs": [],
   "source": [
    "gdp2020 = gdp_df.loc[gdp_df['Year'] == 2020]"
   ]
  },
  {
   "cell_type": "code",
   "execution_count": null,
   "id": "33adb6fe-1491-4a48-b930-d33c9da85fe0",
   "metadata": {},
   "outputs": [],
   "source": [
    "gdp2020[\"GDP_Per_Capita\"].mean()"
   ]
  },
  {
   "cell_type": "markdown",
   "id": "e435e78b-78b3-4b3d-b03d-c021b2170e70",
   "metadata": {},
   "source": [
    "Question 10: For this question, you're going to create some visualizations to compare GDP per capita values for the years 1990, 2000, 2010, and 2020. Start by subsetting your data to just these 4 years into a new DataFrame named gdp_decades. Using this, create the following 4 plots:\r\n",
    "\t* A boxplot\r\n",
    "\t* A barplot (check out the Barplot with Seaborn section: https://www.python-graph-gallery.com/barplot/#Seaborn)\r\n",
    "\t* A scatterplot\r\n",
    "\t* A scatterplot with a trend line overlaid (see this regplot example: https://www.python-graph-gallery.com/42-custom-linear-regression-fit-seab\n",
    " rn) \n",
    "GDP has trended upwards over time. The Boxplot is best for observing the full spread of data including distrubution density and outliers. the barplot shows a simplified version of the density and outliers. The scatter plot shows represent individual values best but it can be harder to deciper density. The addition of the trend line to the scatterplot helps describer overall change over time."
   ]
  },
  {
   "cell_type": "code",
   "execution_count": null,
   "id": "05ec1ad2-92d6-4870-9cef-5a8fc54d39cb",
   "metadata": {},
   "outputs": [],
   "source": [
    "Q10_df = gdp_df.loc[gdp_df[\"Year\"].isin([1990,2000,2010,2020])]"
   ]
  },
  {
   "cell_type": "code",
   "execution_count": null,
   "id": "9bbf4715-e54f-42fa-9559-699e953a4562",
   "metadata": {},
   "outputs": [],
   "source": [
    "sns.boxplot( x = Q10_df[\"Year\"], y = Q10_df[\"GDP_Per_Capita\"]);"
   ]
  },
  {
   "cell_type": "code",
   "execution_count": null,
   "id": "3340fc7a-7618-41ea-b140-8ab6d0661e4a",
   "metadata": {},
   "outputs": [],
   "source": [
    "sns.barplot(x = Q10_df[\"Year\"], y = Q10_df[\"GDP_Per_Capita\"]);"
   ]
  },
  {
   "cell_type": "code",
   "execution_count": null,
   "id": "77128106-4466-439c-a276-724c3611bd31",
   "metadata": {},
   "outputs": [],
   "source": [
    "sns.scatterplot(x = Q10_df[\"Year\"], y = Q10_df[\"GDP_Per_Capita\"]);"
   ]
  },
  {
   "cell_type": "code",
   "execution_count": null,
   "id": "c3f6122e-6ba8-43b3-b518-370d50a3d7c8",
   "metadata": {},
   "outputs": [],
   "source": [
    "sns.regplot(x = Q10_df[\"Year\"], y = Q10_df[\"GDP_Per_Capita\"], line_kws={\"color\": \"green\"});"
   ]
  },
  {
   "cell_type": "markdown",
   "id": "8f15b90f-e631-4132-8728-3129dd012580",
   "metadata": {},
   "source": [
    "Question 11: Which country was the first to have a GDP per capita greater than $100,000?\n",
    "\n",
    "UAE in 1990"
   ]
  },
  {
   "cell_type": "code",
   "execution_count": null,
   "id": "1624e4d1-299d-4540-be81-549bd3425a61",
   "metadata": {},
   "outputs": [],
   "source": [
    "greater_than_100000 = gdp_df.loc[gdp_df['GDP_Per_Capita'] > 100000]"
   ]
  },
  {
   "cell_type": "code",
   "execution_count": null,
   "id": "b9cadbc6-5408-4794-92a3-0ab8d0e133ed",
   "metadata": {},
   "outputs": [],
   "source": [
    "greater_than_100000.sort_values(by ='Year', ascending = True)"
   ]
  },
  {
   "cell_type": "markdown",
   "id": "7925f6c5-cfe3-4043-b5ad-ecb44d821baa",
   "metadata": {},
   "source": [
    "Question 12: Which country had the highest GDP per capita in 2020? Create a plot showing how this country's GDP per capita has changed over the timespan of the dataset.\n",
    "\n",
    "Answer: Luxembourg"
   ]
  },
  {
   "cell_type": "code",
   "execution_count": null,
   "id": "38b9d973-c5b6-48bb-8c5c-77a44a29cc39",
   "metadata": {},
   "outputs": [],
   "source": [
    "lux_gdp = gdp_df.loc[gdp_df['Country'] == 'Luxembourg']"
   ]
  },
  {
   "cell_type": "code",
   "execution_count": null,
   "id": "63a2f60d-62e5-46ae-b0a8-b0b8ae4ae1cc",
   "metadata": {},
   "outputs": [],
   "source": [
    "lux_gdp = lux_gdp.sort_values(by = 'Year', ascending = True)"
   ]
  },
  {
   "cell_type": "code",
   "execution_count": null,
   "id": "b68963ec-cda7-403a-8b33-a0bd0ce419ea",
   "metadata": {},
   "outputs": [],
   "source": [
    "plt.plot('Year', 'GDP_Per_Capita', data=lux_gdp, linestyle='-', marker='o')\n",
    "plt.title('Luxembourg GDP Over Time')\n",
    "plt.xlabel('Year')\n",
    "plt.ylabel('GDP')"
   ]
  },
  {
   "cell_type": "markdown",
   "id": "c63ff0e5-63ac-4c8c-a797-53cc699a313e",
   "metadata": {},
   "source": [
    "Question 13: Which country had the lowest GDP per capita in 2020? Create a plot showing how this country's GDP per capita has changed over the timespan of the dataset. **Bonus question:** Is it true in general that coutries had a higher GDP per capita in 2020 than in 1990? Which countries had lower GDP per capita in 2020 than in 1990?\n",
    "\n",
    "Burundi, $711.355\n",
    "\n",
    "Bonus: On average, GDP was higher in 2020 than 1990. There are 19 countries were this was not the case:\n",
    "0\tBarbados\r\n",
    "1\tBrunei\r\n",
    "2\tBurundi\r\n",
    "3\tCentral African Republic\r\n",
    "4\tCongo\r\n",
    "5\tDem. Rep. Congo\r\n",
    "6\tFragile and conflict affected situations\r\n",
    "7\tGabon\r\n",
    "8\tGuinea-Bissau\r\n",
    "9\tHaiti\r\n",
    "10\tKiribati\r\n",
    "11\tKyrgyz Republic\r\n",
    "12\tMadagascar\r\n",
    "13\tTajikistan\r\n",
    "14\tThe Bahamas\r\n",
    "15\tThe Gambia\r\n",
    "16\tUkraine\r\n",
    "17\tUnited Arab Emirates\r\n",
    "18\tZimbabwe\r\n",
    "\n"
   ]
  },
  {
   "cell_type": "code",
   "execution_count": null,
   "id": "7347fbaf-9860-4f2b-9f57-5f34bf27004b",
   "metadata": {},
   "outputs": [],
   "source": [
    "GDP2020 = gdp_df.loc[gdp_df['Year'] == 2020]"
   ]
  },
  {
   "cell_type": "code",
   "execution_count": null,
   "id": "49bb39e6-c091-4a2c-8455-d284661cb8fe",
   "metadata": {},
   "outputs": [],
   "source": [
    "GDP2020 = GDP2020.sort_values(by = 'GDP_Per_Capita', ascending = True)"
   ]
  },
  {
   "cell_type": "code",
   "execution_count": null,
   "id": "50fceb99-ac77-4e4f-b788-cee552bf62c2",
   "metadata": {},
   "outputs": [],
   "source": [
    "GDP2020.head(1)"
   ]
  },
  {
   "cell_type": "code",
   "execution_count": null,
   "id": "4bcd0ee3-a2b6-42a1-9a00-a2b8fedab493",
   "metadata": {},
   "outputs": [],
   "source": [
    "bur_gdp = gdp_df.loc[gdp_df['Country'] == 'Burundi'].sort_values( by = 'Year', ascending = True)"
   ]
  },
  {
   "cell_type": "code",
   "execution_count": null,
   "id": "df903dda-0d09-4536-af1f-84b1234fcf6d",
   "metadata": {},
   "outputs": [],
   "source": [
    "bur_gdp"
   ]
  },
  {
   "cell_type": "code",
   "execution_count": null,
   "id": "f22faa7e-2c98-42c2-b3db-1905f3d4c12b",
   "metadata": {},
   "outputs": [],
   "source": [
    "plt.plot('Year', 'GDP_Per_Capita', data = bur_gdp, linestyle = '-', marker = 'o')\n",
    "plt.title('Burundi GDP Over Time')\n",
    "plt.xlabel('Year')\n",
    "plt.ylabel('GDP')"
   ]
  },
  {
   "cell_type": "code",
   "execution_count": null,
   "id": "2d6ae69c-1fa2-452d-b0df-ecd695cd7748",
   "metadata": {},
   "outputs": [],
   "source": [
    "gdp_df.groupby(['Year'])['GDP_Per_Capita'].mean()"
   ]
  },
  {
   "cell_type": "code",
   "execution_count": null,
   "id": "cd1908c1-e966-4fff-8d1a-3d64bcc51724",
   "metadata": {},
   "outputs": [],
   "source": [
    "Subs20= gdp_df.loc[gdp_df['Year'] == 2020]"
   ]
  },
  {
   "cell_type": "code",
   "execution_count": null,
   "id": "15040c7e-3ac1-43a2-8631-3c06c4b53c39",
   "metadata": {},
   "outputs": [],
   "source": [
    "Subs90= gdp_df.loc[gdp_df['Year'] == 1990]"
   ]
  },
  {
   "cell_type": "code",
   "execution_count": null,
   "id": "9b6ad2cc-48e4-4b6e-8c43-43fd3a3266e5",
   "metadata": {},
   "outputs": [],
   "source": [
    "q13bonus= pd.merge(Subs20, Subs90, on = 'Country', how = 'inner')"
   ]
  },
  {
   "cell_type": "code",
   "execution_count": null,
   "id": "8d22ffeb-9c5a-496b-9054-8909b28d1da3",
   "metadata": {},
   "outputs": [],
   "source": [
    "q13bonus"
   ]
  },
  {
   "cell_type": "code",
   "execution_count": null,
   "id": "dc41a944-a69d-44a6-833b-f26bd4f07d6c",
   "metadata": {},
   "outputs": [],
   "source": [
    "q13bonus = q13bonus.rename(columns ={'GDP_Per_Capita_x':'2020_GDP','GDP_Per_Capita_y':'1990_GDP','Year_x':'2020','Year_y':'1990'})"
   ]
  },
  {
   "cell_type": "code",
   "execution_count": null,
   "id": "56031e29-0a95-41c6-b93a-061d86a489d4",
   "metadata": {},
   "outputs": [],
   "source": [
    "q13bonus = q13bonus.loc[q13bonus['2020_GDP'] < q13bonus['1990_GDP']]"
   ]
  },
  {
   "cell_type": "code",
   "execution_count": null,
   "id": "666174c0-eca3-49e6-9c2b-a4457eecf5fc",
   "metadata": {},
   "outputs": [],
   "source": [
    "q13bonus = q13bonus.reset_index(drop = True)\n",
    "q13bonus"
   ]
  },
  {
   "cell_type": "code",
   "execution_count": null,
   "id": "3bc26051-6d8c-42d4-b1d7-cc4b13ca4535",
   "metadata": {},
   "outputs": [],
   "source": [
    "q13bonus = q13bonus[['Country']]\n",
    "q13bonus"
   ]
  },
  {
   "cell_type": "markdown",
   "id": "4a47182e-516e-467f-8651-22f1bf42ee98",
   "metadata": {},
   "source": [
    "Question 14: Read in the internet use dataset into a DataFrame named `internet_df`. You will likely get errors when doing this. Check the arguments for the read_csv function to find ones that can help correct the errors (https://pandas.pydata.org/docs/reference/api/pandas.read_csv.html) Once you are able to read it in, take per a look at the top and bottom few rows to make sure that it has been read in correctly. Also, check the datatypes of the columns."
   ]
  },
  {
   "cell_type": "code",
   "execution_count": null,
   "id": "9e99605c-c5ca-4e5c-b01a-f05a50dde295",
   "metadata": {},
   "outputs": [],
   "source": [
    "internet_df = pd.read_csv('../data/internet_use.csv', nrows = 6083)"
   ]
  },
  {
   "cell_type": "code",
   "execution_count": null,
   "id": "3a3bd859-1417-48a6-abc7-4ef40b75fe0b",
   "metadata": {},
   "outputs": [],
   "source": [
    "internet_df"
   ]
  },
  {
   "cell_type": "markdown",
   "id": "9b2a3c94-35ea-4946-9941-c9db649294d8",
   "metadata": {},
   "source": [
    "Question 15: Drop the `Value Footnotes` column and rename the remaining three to 'Country', 'Year', and 'Internet_Users_Pct'."
   ]
  },
  {
   "cell_type": "code",
   "execution_count": null,
   "id": "a4203baf-2503-4976-9c2a-2455346f0705",
   "metadata": {},
   "outputs": [],
   "source": [
    "internet_df = internet_df.drop(columns = 'Value Footnotes')"
   ]
  },
  {
   "cell_type": "code",
   "execution_count": null,
   "id": "7f70ea1d-f050-4c8f-8bc0-51e5f17d939a",
   "metadata": {},
   "outputs": [],
   "source": [
    "internet_df.columns = ['Country', 'Year', 'Internet_Users_Pct']"
   ]
  },
  {
   "cell_type": "markdown",
   "id": "03f44d8a-4775-47e2-8869-c9f6e1551716",
   "metadata": {},
   "source": [
    "Question 16: Look at the number of observations in this dataset per year. What do you notice?\n",
    "\n",
    "1990 is the highest number of observations and 2023 is the lowest. In general the number of observations trends upwards with the exception of the first and last years of data"
   ]
  },
  {
   "cell_type": "code",
   "execution_count": null,
   "id": "e0182601-988f-43a4-81d8-b7b12e47ab3f",
   "metadata": {},
   "outputs": [],
   "source": [
    "internet_df.value_counts('Year')"
   ]
  },
  {
   "cell_type": "markdown",
   "id": "14808d0b-f82a-4d85-ac58-e8bac07dd5be",
   "metadata": {},
   "source": [
    "Question 17: What is the first year to have a non-zero internet users percentage value?\n",
    "\n",
    "1990 was the first year."
   ]
  },
  {
   "cell_type": "code",
   "execution_count": null,
   "id": "ae60c88a-a511-40b6-9776-8c0efc1a8db1",
   "metadata": {},
   "outputs": [],
   "source": [
    "internet_df.loc[internet_df['Internet_Users_Pct'] > 0].sort_values(by = 'Year', ascending = True).head(1)"
   ]
  },
  {
   "cell_type": "markdown",
   "id": "751ec1f7-4a30-40ff-b9fb-91a0e41f4954",
   "metadata": {},
   "source": [
    "Question 18: How does the distribution of internet users percent differ for 2000 and 2014?\n",
    "\n",
    "In 2000, most countries had less than 20% internet user percent. By 2014 this had shifted to between 20 and 70%."
   ]
  },
  {
   "cell_type": "code",
   "execution_count": null,
   "id": "8b1b0712-4294-49b5-832b-a938555e0d11",
   "metadata": {},
   "outputs": [],
   "source": [
    "subs_00_14 = internet_df.loc[(internet_df['Year'] == 2000)| (internet_df['Year'] == 2014)]"
   ]
  },
  {
   "cell_type": "code",
   "execution_count": null,
   "id": "f2ddcbd0-c80d-49ab-95f6-ac0d93d01d65",
   "metadata": {},
   "outputs": [],
   "source": [
    "sns.boxplot(x = subs_00_14['Year'], y = subs_00_14['Internet_Users_Pct'])\n",
    "plt.title (\"Internet User Distribution 2000 vs 2014\")\n",
    "plt.ylabel (\"Internet Users Percent\")"
   ]
  },
  {
   "cell_type": "markdown",
   "id": "99b16bcf-73b4-4296-a898-7064fa741261",
   "metadata": {},
   "source": [
    "Question 19: For how many countries was the percentage of internet users below 5% in 2014?\n",
    "\n",
    "10 Countries"
   ]
  },
  {
   "cell_type": "code",
   "execution_count": null,
   "id": "5a10b70c-fce8-41cb-be97-ee0c25451fc9",
   "metadata": {},
   "outputs": [],
   "source": [
    "internet_df.loc[(internet_df['Year'] == 2014) & (internet_df['Internet_Users_Pct'] < 5)].count()"
   ]
  },
  {
   "cell_type": "markdown",
   "id": "384bb0df-ed27-4486-bce4-9b55a861391a",
   "metadata": {},
   "source": [
    "Question 20: Merge the two DataFrames to one. Do this in a way that keeps **all rows** from each of the two DataFrames. Call the new DataFrame `gdp_and_internet_use`. Look at the first and last few rows to confirm that it merged correctly."
   ]
  },
  {
   "cell_type": "code",
   "execution_count": null,
   "id": "0fd1d846-b2c6-4a50-8010-ac7581334216",
   "metadata": {},
   "outputs": [],
   "source": [
    "gdp_and_internet_use = pd.merge(gdp_df,internet_df, on = ['Country','Year'], how = 'outer')"
   ]
  },
  {
   "cell_type": "markdown",
   "id": "c00963c1-d1c3-4dec-8699-3c0abc5ab6d8",
   "metadata": {},
   "source": [
    "Question 21: Find the three countries with the highest internet users percentage in 2014. Use a seaborn FacetGrid (https://seaborn.pydata.org/generated/seaborn.FacetGrid.html) to compare how the GDP per capita has changed over time for these three countries. What do you notice?\n",
    "Iceland, Falkland Islands, Bermuda"
   ]
  },
  {
   "cell_type": "code",
   "execution_count": null,
   "id": "6aa808d8-cd5e-46de-aec2-40f5545a6ef3",
   "metadata": {},
   "outputs": [],
   "source": [
    "gdp_and_internet_use.loc[gdp_and_internet_use['Year'] == 2014].sort_values(by = 'Internet_Users_Pct', ascending = False).head(3)"
   ]
  },
  {
   "cell_type": "code",
   "execution_count": null,
   "id": "e085d1f5-7b07-421e-8369-de527c561f51",
   "metadata": {},
   "outputs": [],
   "source": [
    "topinternet= gdp_and_internet_use.loc[gdp_and_internet_use['Country'].isin(['Iceland','Falkland (Malvinas) Islands','Bermuda'])]\n",
    "topinternet"
   ]
  },
  {
   "cell_type": "code",
   "execution_count": null,
   "id": "e8725036-a5cb-4326-9571-697996978829",
   "metadata": {},
   "outputs": [],
   "source": [
    "graph = sns.FacetGrid(topinternet, col =\"Country\")\n",
    "graph.map(plt.plot,\"Year\", \"GDP_Per_Capita\", linestyle = '-', marker = 'o')"
   ]
  },
  {
   "cell_type": "markdown",
   "id": "50fda1a4-3edf-44c8-8454-d59e1a551ef3",
   "metadata": {},
   "source": [
    "Question 22: Subset `gdp_and_internet_use` to just the year 2014. Save this as a new dataframe named `gdp_and_internet_use_2014`"
   ]
  },
  {
   "cell_type": "code",
   "execution_count": null,
   "id": "96e208f8-2b5c-4913-b3cd-df2f4e3c2908",
   "metadata": {},
   "outputs": [],
   "source": [
    "gdp_and_internet_use_2014 = gdp_and_internet_use.loc[gdp_and_internet_use['Year'] == 2014]"
   ]
  },
  {
   "cell_type": "markdown",
   "id": "d64e417d-0572-4867-b5d3-33abbbc3e029",
   "metadata": {},
   "source": [
    "Question 23: Create a plot which compares Internet Users Percentage and GDP per Capita for the year 2014. What do you notice from this plot? If you see any unusual points, investigate them.\n",
    "\n",
    "Equatorial Guinea and Libya have very low interent user pct compared to other countries of their same GDP"
   ]
  },
  {
   "cell_type": "code",
   "execution_count": null,
   "id": "fd73f09d-89fa-4460-b6a9-c5475b87e4e1",
   "metadata": {},
   "outputs": [],
   "source": [
    "plt.scatter(gdp_and_internet_use_2014['GDP_Per_Capita'],gdp_and_internet_use_2014['Internet_Users_Pct'])\n",
    "plt.xlabel(\"GDP\")\n",
    "plt.ylabel(\"Internet User Percent\")\n",
    "plt.title(\"GDP VS Internet User Percent\")"
   ]
  },
  {
   "cell_type": "code",
   "execution_count": null,
   "id": "4a595520-004a-4e61-8851-871cc5cabd71",
   "metadata": {},
   "outputs": [],
   "source": [
    "gdp_and_internet_use_2014.loc[(gdp_and_internet_use_2014['GDP_Per_Capita'] > 18000) & (gdp_and_internet_use_2014['Internet_Users_Pct'] <25)]"
   ]
  },
  {
   "cell_type": "markdown",
   "id": "9548607e-1b58-47c0-b136-e16149daa059",
   "metadata": {},
   "source": [
    "Question 24: **Stretch Question:** Use the `qcut` function from pandas (https://pandas.pydata.org/docs/reference/api/pandas.qcut.html) to divide countries in `gdp_per_capita_2014` into three groups based on their GDP per capita values. Label these groups as \"Low\", \"Medium\", and \"High\". Put these labels in a new column, named \"GDP_group\"."
   ]
  },
  {
   "cell_type": "code",
   "execution_count": null,
   "id": "d9306a08-2026-46f1-8ff6-0657295390d5",
   "metadata": {},
   "outputs": [],
   "source": [
    "gdp_per_capita_2014 = gdp_and_internet_use_2014[['Country', 'GDP_Per_Capita','Internet_Users_Pct']].sort_values(by = 'GDP_Per_Capita', ascending = True)"
   ]
  },
  {
   "cell_type": "code",
   "execution_count": null,
   "id": "5c5a8cfb-8ca0-4cad-9369-0aec0ef7faa9",
   "metadata": {},
   "outputs": [],
   "source": [
    "gdp_per_capita_2014['GDP_group'] = pd.qcut(gdp_per_capita_2014['GDP_Per_Capita'], 3, labels=[\"Low\", \"Medium\", \"High\"])"
   ]
  },
  {
   "cell_type": "code",
   "execution_count": null,
   "id": "e157d101-abfc-49c8-b7fe-15d32a912c2a",
   "metadata": {},
   "outputs": [],
   "source": [
    "gdp_per_capita_2014"
   ]
  },
  {
   "cell_type": "markdown",
   "id": "4234386f-0139-48ff-a509-df3daed7636f",
   "metadata": {},
   "source": [
    "Question 25: **Stretch Question:** How does the median internet users percentage compare for the three gdp groups?"
   ]
  },
  {
   "cell_type": "code",
   "execution_count": null,
   "id": "37144f64-1d86-4dec-b3e5-583a3302a6fc",
   "metadata": {},
   "outputs": [],
   "source": [
    "Q25 = gdp_per_capita_2014.groupby(['GDP_group'])['Internet_Users_Pct'].median()"
   ]
  },
  {
   "cell_type": "code",
   "execution_count": null,
   "id": "25e5adef-7b8d-4862-95a9-59321521a1dd",
   "metadata": {},
   "outputs": [],
   "source": [
    "Q25"
   ]
  },
  {
   "cell_type": "code",
   "execution_count": null,
   "id": "bac14283-11eb-4d61-9f39-a2729b91b37c",
   "metadata": {},
   "outputs": [],
   "source": [
    "Q25= Q25.to_frame()"
   ]
  },
  {
   "cell_type": "code",
   "execution_count": null,
   "id": "3203f655-0e5e-4681-ae97-f485a8eb7cbc",
   "metadata": {},
   "outputs": [],
   "source": [
    "Q25"
   ]
  },
  {
   "cell_type": "code",
   "execution_count": null,
   "id": "d96a27ba-80ef-4c8f-95f3-bbb8292c253a",
   "metadata": {},
   "outputs": [],
   "source": []
  }
 ],
 "metadata": {
  "kernelspec": {
   "display_name": "Python 3 (ipykernel)",
   "language": "python",
   "name": "python3"
  },
  "language_info": {
   "codemirror_mode": {
    "name": "ipython",
    "version": 3
   },
   "file_extension": ".py",
   "mimetype": "text/x-python",
   "name": "python",
   "nbconvert_exporter": "python",
   "pygments_lexer": "ipython3",
   "version": "3.12.4"
  }
 },
 "nbformat": 4,
 "nbformat_minor": 5
}
